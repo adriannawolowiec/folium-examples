{
 "cells": [
  {
   "cell_type": "markdown",
   "metadata": {},
   "source": [
    "# How to create a folium map?"
   ]
  },
  {
   "cell_type": "markdown",
   "metadata": {},
   "source": [
    "##### Necessary libraries"
   ]
  },
  {
   "cell_type": "code",
   "execution_count": null,
   "metadata": {},
   "outputs": [],
   "source": [
    "from branca.element import Template, MacroElement\n",
    "from selenium import webdriver\n",
    "import folium\n",
    "import json\n",
    "import numpy as np\n",
    "import os\n",
    "import pandas as pd\n",
    "import random\n",
    "import requests\n",
    "import time"
   ]
  },
  {
   "cell_type": "markdown",
   "metadata": {},
   "source": [
    "#### Create a folium map object (set center of map, start and maximum zoom)"
   ]
  },
  {
   "cell_type": "code",
   "execution_count": null,
   "metadata": {},
   "outputs": [],
   "source": [
    "m = folium.Map(location=[example_latitude, example_longitude], zoom_start=12, max_zoom=14)"
   ]
  },
  {
   "cell_type": "markdown",
   "metadata": {},
   "source": [
    "#### Create a marker for a specific point on the map"
   ]
  },
  {
   "cell_type": "code",
   "execution_count": null,
   "metadata": {},
   "outputs": [],
   "source": [
    "popup = folium.Popup('popup_title <br/> popup_subtitle', max_width=300)\n",
    "icon = folium.features.CustomIcon('image_url')\n",
    "\n",
    "folium.Marker([example_latitude, example_longitude], icon=icon, tooltip='tooltip_text', popup=popup).add_to(m)"
   ]
  },
  {
   "cell_type": "markdown",
   "metadata": {},
   "source": [
    "#### In case you want to show travel time zone for a specific map point, you can do it with isochrones. <br/> For travel distance zones you can use isodistance. <br/> Both options are available free with ISO4APP API. Zones 10 min and 10 km are available for free with a public licence key."
   ]
  },
  {
   "cell_type": "code",
   "execution_count": null,
   "metadata": {},
   "outputs": [],
   "source": [
    "# Example for isochrone 10 min\n",
    "\n",
    "parameters_10 = {\n",
    "    \"type\": \"isochrone\",\n",
    "    \"value\": 600,\n",
    "    \"lat\": example_latitude,\n",
    "    \"lng\": example_longitude,\n",
    "    \"mobility\": \"motor_vehicle\",\n",
    "    \"concavity\": 8   #degree of precision by isochrone borders\n",
    "}\n",
    "\n",
    "response_10 = requests.get(\"http://www.iso4app.net/rest/1.3/isoline.geojson?licKey=87B7FB96-83DA-4FBD-A312-7822B96BB143\"\n",
    "                       , params = parameters_10)\n",
    "\n",
    "if response_10.status_code==200:\n",
    "    geom_10 = response_10.json()\n",
    "    print('Data successfully loaded')\n",
    "else:\n",
    "    print('Error by data loading')"
   ]
  },
  {
   "cell_type": "code",
   "execution_count": null,
   "metadata": {},
   "outputs": [],
   "source": [
    "# Add isochrone to the map with a specifict style options\n",
    "\n",
    "style_function_10 = lambda x: {\n",
    "    'color': 'darkorange',\n",
    "    'weight':2,\n",
    "    'fillOpacity':0.2,\n",
    "    'opacity':0.8}\n",
    "\n",
    "folium.GeoJson(geom_10['features'][2], name='Time travel zone 10 min', style_function=style_function_10).add_to(m)"
   ]
  },
  {
   "cell_type": "markdown",
   "metadata": {},
   "source": [
    "#### You can also show some points around main point on the map. <br/>For the example I will use some random geocoordinates"
   ]
  },
  {
   "cell_type": "code",
   "execution_count": null,
   "metadata": {},
   "outputs": [],
   "source": [
    "random.seed(123)\n",
    "\n",
    "list1 = example_latitude+np.random.randn(500)/45\n",
    "list2 = example_longitude+np.random.randn(500)/25\n",
    "list3 = np.random.randint(0,4,500)\n",
    "\n",
    "zipped = zip(list1, list2, list3)\n",
    "\n",
    "points = pd.DataFrame(zipped, columns=['latitude', 'longitude', 'value'])"
   ]
  },
  {
   "cell_type": "code",
   "execution_count": null,
   "metadata": {},
   "outputs": [],
   "source": [
    "feature_group = folium.FeatureGroup(name='name_of_group')\n",
    "\n",
    "for row in points.iterrows():\n",
    "    if(row[1][2]>2):\n",
    "        marker_active = folium.CircleMarker([row[1][0], row[1][1]], fill=True, fill_color='black', \n",
    "                                            color='black', radius=3, weight=1, fill_opacity=0.5)\n",
    "        feature_group_active.add_child(marker_active)\n",
    "        \n",
    "    elif(row[1][2]>1):\n",
    "        marker_active = folium.CircleMarker([row[1][0], row[1][1]], fill=True, fill_color='gray', \n",
    "                                            color='black', radius=3, weight=1, fill_opacity=0.5)\n",
    "        feature_group_active.add_child(marker_active)\n",
    "        \n",
    "    elif(row[1][2]>0):\n",
    "        marker_active = folium.CircleMarker([row[1][0], row[1][1]], fill=True, fill_color='white', \n",
    "                                            color='black', radius=3, weight=1, fill_opacity=0.5)\n",
    "        feature_group_active.add_child(marker_active)\n",
    "        \n",
    "    else:\n",
    "        marker_inactive = folium.CircleMarker([row[1][0], row[1][1]], fill=True, fill_color='red', \n",
    "                                              color='red', radius=3, weight=1, fill_opacity=0.5)\n",
    "        feature_group_inactive.add_child(marker_inactive)\n",
    "        \n",
    "\n",
    "m.add_child(feature_group)"
   ]
  },
  {
   "cell_type": "markdown",
   "metadata": {},
   "source": [
    "#### For the control of the specified layers you can use below option"
   ]
  },
  {
   "cell_type": "code",
   "execution_count": null,
   "metadata": {},
   "outputs": [],
   "source": [
    "folium.LayerControl().add_to(m)"
   ]
  },
  {
   "cell_type": "markdown",
   "metadata": {},
   "source": [
    "#### Finally you can show the map"
   ]
  },
  {
   "cell_type": "code",
   "execution_count": null,
   "metadata": {},
   "outputs": [],
   "source": [
    "m"
   ]
  },
  {
   "cell_type": "markdown",
   "metadata": {},
   "source": [
    "#### What might be missing is the map legend. You can add one using the below code."
   ]
  },
  {
   "cell_type": "code",
   "execution_count": null,
   "metadata": {},
   "outputs": [],
   "source": [
    "template = \"\"\"\n",
    "{% macro html(this, kwargs) %}\n",
    "\n",
    "<!doctype html>\n",
    "<html lang=\"en\">\n",
    "<head>\n",
    "  <meta charset=\"utf-8\">\n",
    "  <meta name=\"viewport\" content=\"width=device-width, initial-scale=1\">\n",
    "  <title>Folium map</title>\n",
    "</head>\n",
    "<body>\n",
    "\n",
    "<div id='maplegend' class='maplegend' \n",
    "    style='position: absolute; z-index:9999; border:2px solid rgba(0, 0, 0, 0.2); background-color:rgba(255, 255, 255, 1);\n",
    "     border-radius:5px; padding: 10px; font-size:14px; right: 5px; bottom: 20px; height: auto; width: auto'>\n",
    "     \n",
    "<div class='legend-title'>Legend title</div>\n",
    "<div class='legend-part-title'>Time travel zone</div>\n",
    "<div class='legend-scale'>\n",
    "  <ul class='legend-labels'>\n",
    "    <li><span style='background:darkorange;opacity:0.5;'></span>10 min</li>\n",
    "  </ul>\n",
    "</div> \n",
    "<div class='legend-part-title2'>Points</div>  \n",
    "<div class='legend-scale'>\n",
    "  <ul class='legend-labels2'>\n",
    "    <li><span style='background:white;opacity:0.6;'></span>value 1-2</li>\n",
    "    <li><span style='background:gray;opacity:0.6;'></span>value 3-4</li>\n",
    "    <li><span style='background:black;opacity:0.6;'></span>value 5+</li>\n",
    "  </ul>\n",
    "</div>\n",
    "<div class='legend-part-title'> Another subtitle </div>  \n",
    "<div class='legend-scale'>\n",
    "  <ul class='legend-labels3'>\n",
    "    <li><span style='background:red;opacity:0.6;'></span>Value 0</li>\n",
    "  </ul>\n",
    "</div>\n",
    "</div>\n",
    " \n",
    "</body>\n",
    "</html>\n",
    "\n",
    "<style type='text/css'>\n",
    "  .maplegend .legend-title {\n",
    "    text-align: left;\n",
    "    margin-bottom: 5px;\n",
    "    font-weight: bold;\n",
    "    font-size: 90%;\n",
    "    }\n",
    "  .maplegend .legend-part-title {\n",
    "    text-align: left;\n",
    "    margin-bottom: 5px;\n",
    "    font-size: 90%;\n",
    "    }\n",
    "  .maplegend .legend-part-title2 {\n",
    "    text-align: left;\n",
    "    margin-bottom: 5px;\n",
    "    font-size: 90%;\n",
    "    }\n",
    "  .maplegend .legend-scale ul {\n",
    "    margin: 0;\n",
    "    margin-bottom: 5px;\n",
    "    padding: 0;\n",
    "    list-style: none;\n",
    "    }\n",
    "  .maplegend .legend-scale ul li {\n",
    "    font-size: 80%;\n",
    "    list-style: none;\n",
    "    margin-left: 0;\n",
    "    line-height: 18px;\n",
    "    margin-bottom: 2px;\n",
    "    }\n",
    "  .maplegend ul.legend-labels li span {\n",
    "    display: block;\n",
    "    float: left;\n",
    "    height: 16px;\n",
    "    width: 30px;\n",
    "    margin-right: 5px;\n",
    "    margin-left: 0;\n",
    "    }\n",
    "  .maplegend ul.legend-labels2 li span {\n",
    "    display: block;\n",
    "    float: left;\n",
    "    height: 16px;\n",
    "    width: 16px;\n",
    "    margin-right: 5px;\n",
    "    margin-left: 0;\n",
    "    border-style:solid;\n",
    "    border-width:1px;\n",
    "    border-color:black;\n",
    "    border-radius:50%\n",
    "    }\n",
    "  .maplegend ul.legend-labels3 li span {\n",
    "    display: block;\n",
    "    float: left;\n",
    "    height: 16px;\n",
    "    width: 16px;\n",
    "    margin-right: 5px;\n",
    "    margin-left: 0;\n",
    "    border-style:solid;\n",
    "    border-width:1px;\n",
    "    border-color:red;\n",
    "    border-radius:50%\n",
    "    }\n",
    "  .maplegend .legend-source {\n",
    "    font-size: 80%;\n",
    "    color: #777;\n",
    "    clear: both;\n",
    "    }\n",
    "  .maplegend a {\n",
    "    color: #777;\n",
    "    }\n",
    "</style>\n",
    "{% endmacro %}\"\"\"\n",
    "\n",
    "m_legend = MacroElement()\n",
    "m_legend._template = Template(template)\n",
    "\n",
    "m.get_root().add_child(m_legend)\n",
    "m"
   ]
  },
  {
   "cell_type": "markdown",
   "metadata": {},
   "source": [
    "#### Saving the map in HTML file"
   ]
  },
  {
   "cell_type": "code",
   "execution_count": null,
   "metadata": {},
   "outputs": [],
   "source": [
    "m.save('map.html')"
   ]
  },
  {
   "cell_type": "markdown",
   "metadata": {},
   "source": [
    "#### Saving the map as PNG file (driver for web browser is necessary) <br/> For zooming we need some delay for the map to render"
   ]
  },
  {
   "cell_type": "code",
   "execution_count": null,
   "metadata": {},
   "outputs": [],
   "source": [
    "html_path='file://{path}/map.html'.format(path=os.getcwd())\n",
    "\n",
    "delay = 10\n",
    "\n",
    "browser = webdriver.Chrome()\n",
    "browser.maximize_window()\n",
    "\n",
    "browser.get(html_path)\n",
    "browser.save_screenshot('map.png')\n",
    "\n",
    "zoom_in = browser.find_element_by_class_name('leaflet-control-zoom-in')\n",
    "zoom_in.click()\n",
    "time.sleep(delay)\n",
    "browser.save_screenshot('map+zoom.png')\n",
    "\n",
    "browser.quit()"
   ]
  },
  {
   "cell_type": "markdown",
   "metadata": {},
   "source": [
    "## <hr>Enyjoy the code! <br/> Feel free to give your opinion or share your own experience with Folium :)"
   ]
  }
 ],
 "metadata": {
  "kernelspec": {
   "display_name": "Python 3",
   "language": "python",
   "name": "python3"
  },
  "language_info": {
   "codemirror_mode": {
    "name": "ipython",
    "version": 3
   },
   "file_extension": ".py",
   "mimetype": "text/x-python",
   "name": "python",
   "nbconvert_exporter": "python",
   "pygments_lexer": "ipython3",
   "version": "3.7.5"
  }
 },
 "nbformat": 4,
 "nbformat_minor": 2
}
